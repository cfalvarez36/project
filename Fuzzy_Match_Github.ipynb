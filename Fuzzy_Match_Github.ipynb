{
 "cells": [
  {
   "cell_type": "markdown",
   "metadata": {},
   "source": [
    "# A script written using fuzzy logic to find possible merges that have typos or syntax differences. "
   ]
  },
  {
   "cell_type": "code",
   "execution_count": 1,
   "metadata": {},
   "outputs": [],
   "source": [
    "import pandas as pd\n",
    "import numpy as np\n",
    "from fuzzywuzzy import fuzz\n",
    "from fuzzywuzzy import process"
   ]
  },
  {
   "cell_type": "markdown",
   "metadata": {},
   "source": [
    "I will be using the function below to clean three dataframes that don't meet our necessary merge conditions. "
   ]
  },
  {
   "cell_type": "code",
   "execution_count": null,
   "metadata": {},
   "outputs": [],
   "source": [
    "def excelcleaner (csvfilelocation, vendor):\n",
    "    df = pd.read_csv(csvfilelocation, encoding='latin1') #some files aren't read without encoding\n",
    "    df_data = df.loc[:, :'DOB'] #shorten DF shape\n",
    "    df_data.split(axis = 1)\n",
    "    df_data['Name'] = df_data[' Last Name'] + ', ' + df_data[' First  Name'] \n",
    "    df_data = df_data.drop(['Case Manager', 'Supervisor', ' Last Name', ' First  Name'], axis = 1)\n",
    "    df_data.columns = ['SSN', 'DOB', 'Name'] #primarily done to rename SSN\n",
    "    df_data = df_data[['Name', 'SSN', 'DOB']]\n",
    "    df_data['Source'] = vendor\n",
    "    df_data['CG Tracker?'] = 'No'\n",
    "\n",
    "    \n",
    "    SSN = []\n",
    "    for row in df_data['SSN']:\n",
    "        row = str(row).replace('-', '')\n",
    "        SSN.append(row)\n",
    "    df_data['SSN'] = SSN\n",
    "    \n",
    "    df_data = df_data.replace(['None', 'nan', '', ' ', 'NONE', 'na'], np.nan, inplace = False)\n",
    "    return df_data"
   ]
  },
  {
   "cell_type": "code",
   "execution_count": null,
   "metadata": {},
   "outputs": [],
   "source": [
    "Jasadf = excelcleaner('/Users/Carlos/Desktop/JASA.csv', 'Jasa')\n",
    "Selfhelpdf = excelcleaner('/Users/Carlos/Desktop/SH.csv', 'Selfhelp')\n",
    "Nyfdf = excelcleaner('/Users/Carlos/Desktop/NYF.csv', 'NYF')\n",
    "Gili = pd.read_csv('/Users/Carlos/Desktop/Gili_File.csv')"
   ]
  },
  {
   "cell_type": "markdown",
   "metadata": {},
   "source": [
    "Below, I am merging the three cleaned datasets and exporting the new dataframe to a .csv file. \n",
    "\n",
    "This new .csv file will be used in other projects (such as Cleanup_Github). For more information, please refer to the README.md file."
   ]
  },
  {
   "cell_type": "code",
   "execution_count": null,
   "metadata": {},
   "outputs": [],
   "source": [
    "AllVendor = Jasadf.merge(Selfhelpdf, how = 'outer').merge(Nyfdf, how = 'outer')\n",
    "AllVendor.to_csv(\"/Users/Carlos/Desktop/AllVendor.csv\", index = False)"
   ]
  },
  {
   "cell_type": "code",
   "execution_count": null,
   "metadata": {},
   "outputs": [],
   "source": [
    "def fuzzy_merge(df_1, df_2, key1, key2, threshold = 90, limit = 2):\n",
    "    s = df_2[key2].tolist()\n",
    "    \n",
    "    m = df_1[key1].apply(lambda x : process.extract(x, s, limit = limit))\n",
    "    df_1['matches'] = m\n",
    "    \n",
    "    m2 = df_1['matches'].apply(lambda x: ', '.join ([i[0] for i in x if i[1] >= threshold]))\n",
    "    df_1['matches'] = m2\n",
    "    \n",
    "    return df_1"
   ]
  },
  {
   "cell_type": "code",
   "execution_count": null,
   "metadata": {},
   "outputs": [],
   "source": [
    "fmerge = fuzzy_merge(Gili, AllVendor, 'Name', 'Name', 90)\n",
    "fmerge.replace(['None', 'nan', '', ' ', 'NONE', 'na'], np.nan, inplace = True)\n",
    "fmerge = fmerge[fmerge['matches'].notnull()]\n",
    "#fmerge.to_excel(\"/Users/Carlos/Desktop/Possible False Negative Matches.xlsx\")"
   ]
  }
 ],
 "metadata": {
  "kernelspec": {
   "display_name": "Python 3",
   "language": "python",
   "name": "python3"
  },
  "language_info": {
   "codemirror_mode": {
    "name": "ipython",
    "version": 3
   },
   "file_extension": ".py",
   "mimetype": "text/x-python",
   "name": "python",
   "nbconvert_exporter": "python",
   "pygments_lexer": "ipython3",
   "version": "3.7.4"
  }
 },
 "nbformat": 4,
 "nbformat_minor": 2
}
