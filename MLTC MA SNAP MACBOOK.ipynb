{
 "cells": [
  {
   "cell_type": "markdown",
   "metadata": {},
   "source": [
    "# A script written with nested loops in order to read excel files in a directory, loop through each sheet, filter data based off a criteria and create individual files, seperating the different criteria. Reads 3 files and outputs 30 files."
   ]
  },
  {
   "cell_type": "code",
   "execution_count": 1,
   "metadata": {},
   "outputs": [],
   "source": [
    "import pandas as pd\n",
    "import numpy as np\n",
    "import openpyxl\n",
    "import os\n",
    "from openpyxl import load_workbook\n",
    "from itertools import islice"
   ]
  },
  {
   "cell_type": "code",
   "execution_count": 4,
   "metadata": {},
   "outputs": [],
   "source": [
    "files = [i for i in os.listdir('/Users/carlos/Desktop/MLTC_MA_SNAP_AUGUST_2020') if i.endswith('xlsx')]"
   ]
  },
  {
   "cell_type": "code",
   "execution_count": 5,
   "metadata": {},
   "outputs": [
    {
     "data": {
      "text/plain": [
       "['APS_MA_SNAP_AUG_2020.xlsx',\n",
       " 'APS_WITH_MLTC_August_2020.xlsx',\n",
       " 'CG_MA_SNAP_August_2020.xlsx']"
      ]
     },
     "execution_count": 5,
     "metadata": {},
     "output_type": "execute_result"
    }
   ],
   "source": [
    "files"
   ]
  },
  {
   "cell_type": "code",
   "execution_count": 6,
   "metadata": {},
   "outputs": [],
   "source": [
    "def cleanex (col):\n",
    "    for val in Field_Offices:\n",
    "        filename = '/Users/carlos/Desktop/MLTC_MA_SNAP_AUG_2020/' + val + '_' + entry\n",
    "        writer = pd.ExcelWriter(filename, engine = 'xlsxwriter', date_format='MM-DD-YYYY')\n",
    "        for key in dfs.keys():\n",
    "            tempdf = dfs[key].loc[lambda x : x[col] == val]\n",
    "            tempdf['SSN'] = tempdf['SSN'].astype(str).apply(lambda x: x.zfill(9))\n",
    "            #tempdf = tempdf.astype(str)\n",
    "            tempdf.to_excel(writer, sheet_name = key, index = False)\n",
    "        writer.save()"
   ]
  },
  {
   "cell_type": "code",
   "execution_count": 7,
   "metadata": {
    "scrolled": false
   },
   "outputs": [
    {
     "name": "stdout",
     "output_type": "stream",
     "text": [
      "/Users/carlos/Desktop/MLTC_MA_SNAP_AUGUST_2020/APS_MA_SNAP_AUG_2020.xlsx\n",
      "/Users/carlos/Desktop/MLTC_MA_SNAP_AUGUST_2020/APS_WITH_MLTC_August_2020.xlsx\n",
      "/Users/carlos/Desktop/MLTC_MA_SNAP_AUGUST_2020/CG_MA_SNAP_August_2020.xlsx\n",
      "CG\n"
     ]
    },
    {
     "name": "stderr",
     "output_type": "stream",
     "text": [
      "/Users/carlos/opt/anaconda3/lib/python3.7/site-packages/ipykernel_launcher.py:7: SettingWithCopyWarning: \n",
      "A value is trying to be set on a copy of a slice from a DataFrame.\n",
      "Try using .loc[row_indexer,col_indexer] = value instead\n",
      "\n",
      "See the caveats in the documentation: http://pandas.pydata.org/pandas-docs/stable/user_guide/indexing.html#returning-a-view-versus-a-copy\n",
      "  import sys\n"
     ]
    }
   ],
   "source": [
    "path = '/Users/carlos/Desktop/MLTC_MA_SNAP_AUGUST_2020/'\n",
    "for entry in files:\n",
    "    file = path + entry\n",
    "    print(file)\n",
    "    x1 = pd.ExcelFile(file)\n",
    "    dfs = {sheet : x1.parse(sheet) for sheet in x1.sheet_names}\n",
    "    if 'CG' in file:\n",
    "        #print('CG')\n",
    "        Field_Offices = list(dfs['Active CG Clients']['Vendor'].unique())\n",
    "        cleanex('Vendor')\n",
    "    elif 'WITH_MLTC' in file:\n",
    "        #print('MLTC')\n",
    "        Field_Offices = list(dfs['APS WITH MLTC']['Field Office'].unique())\n",
    "        cleanex('Field Office')\n",
    "    elif 'APS_MA' in file:\n",
    "        #print('APS MA')\n",
    "        Field_Offices = list(dfs['SNAP Active']['Field Office'].unique())\n",
    "        cleanex('Field Office')"
   ]
  }
 ],
 "metadata": {
  "kernelspec": {
   "display_name": "Python 3",
   "language": "python",
   "name": "python3"
  },
  "language_info": {
   "codemirror_mode": {
    "name": "ipython",
    "version": 3
   },
   "file_extension": ".py",
   "mimetype": "text/x-python",
   "name": "python",
   "nbconvert_exporter": "python",
   "pygments_lexer": "ipython3",
   "version": "3.7.4"
  }
 },
 "nbformat": 4,
 "nbformat_minor": 2
}
